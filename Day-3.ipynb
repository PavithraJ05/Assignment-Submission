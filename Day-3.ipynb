{
 "cells": [
  {
   "cell_type": "code",
   "execution_count": 2,
   "id": "aad08155",
   "metadata": {},
   "outputs": [
    {
     "name": "stdout",
     "output_type": "stream",
     "text": [
      "gift_received_from=  [2, 1, 4, 5, 3]\n"
     ]
    }
   ],
   "source": [
    "#Take input for the gift_presented_to[] list and print its respective gift_received_from[] list\n",
    "\n",
    "gift_presented_to = [2, 1, 5, 3, 4]\n",
    "\n",
    "gift_presented_to[0]=2\n",
    "gift_presented_to[1]=1\n",
    "gift_presented_to[2]=4\n",
    "gift_presented_to[3]=5\n",
    "gift_presented_to[4]=3\n",
    "\n",
    "print(\"gift_received_from= \",gift_presented_to)\n"
   ]
  },
  {
   "cell_type": "code",
   "execution_count": null,
   "id": "ca6d167a",
   "metadata": {},
   "outputs": [],
   "source": []
  }
 ],
 "metadata": {
  "kernelspec": {
   "display_name": "Python 3",
   "language": "python",
   "name": "python3"
  },
  "language_info": {
   "codemirror_mode": {
    "name": "ipython",
    "version": 3
   },
   "file_extension": ".py",
   "mimetype": "text/x-python",
   "name": "python",
   "nbconvert_exporter": "python",
   "pygments_lexer": "ipython3",
   "version": "3.8.8"
  }
 },
 "nbformat": 4,
 "nbformat_minor": 5
}
