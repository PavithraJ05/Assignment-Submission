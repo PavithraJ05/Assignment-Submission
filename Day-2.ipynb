{
 "cells": [
  {
   "cell_type": "code",
   "execution_count": 1,
   "id": "d7a0627d",
   "metadata": {},
   "outputs": [
    {
     "name": "stdout",
     "output_type": "stream",
     "text": [
      "[1, 2, 2, 3, 4, 2, 5, 6]\n"
     ]
    }
   ],
   "source": [
    "# Question-1-Delete all occurrences of an element in a list\n",
    "\n",
    "mylist=[1,2,2,3,4,2,5,6]\n",
    "print(mylist)"
   ]
  },
  {
   "cell_type": "code",
   "execution_count": 9,
   "id": "58eff0bf",
   "metadata": {},
   "outputs": [
    {
     "name": "stdout",
     "output_type": "stream",
     "text": [
      "[1, 3, 4, 5, 6]\n"
     ]
    }
   ],
   "source": [
    "val=2\n",
    "mylist= [i for i in mylist if i!=val]\n",
    "print(mylist)"
   ]
  },
  {
   "cell_type": "code",
   "execution_count": 18,
   "id": "487287ee",
   "metadata": {},
   "outputs": [
    {
     "name": "stdout",
     "output_type": "stream",
     "text": [
      "Enter a string: The five boxing wizards jump quickly\n",
      "The string is a pangram\n"
     ]
    }
   ],
   "source": [
    "#Question-2-Check whether a string is a pangram.\n",
    "\n",
    "import string\n",
    "asc_lower=string.ascii_lowercase\n",
    "def check(s):\n",
    "    return set(asc_lower) - set(s.lower()) == set([])\n",
    "mystring=input(\"Enter a string: \")\n",
    "\n",
    "if(check(mystring)==True):\n",
    "      print(\"The string is a pangram\")\n",
    "else:\n",
    "      print(\"The string is not a pangram\")"
   ]
  },
  {
   "cell_type": "code",
   "execution_count": 1,
   "id": "b5709297",
   "metadata": {},
   "outputs": [
    {
     "name": "stdout",
     "output_type": "stream",
     "text": [
      "Enter a string: The otp is generated and valid for 10 mins only. For further details visit official site.\n",
      "The otp is generated and valid for 10 mins only. For further details visit official site.\n",
      "OTP:  81XjqEN\n"
     ]
    }
   ],
   "source": [
    "#Project- OTP Generator\n",
    "\n",
    "import random as r\n",
    "import string\n",
    "length= 7\n",
    "otp = ' '\n",
    "\n",
    "characters = string.ascii_letters + string.digits\n",
    "sentence=input(\"Enter a string: \")\n",
    "print(sentence)\n",
    "\n",
    "for i in range(length):\n",
    "    otp = otp + r.choice(characters)\n",
    "    \n",
    "print(\"OTP:\",otp)\n"
   ]
  },
  {
   "cell_type": "code",
   "execution_count": null,
   "id": "9c6bfbd2",
   "metadata": {},
   "outputs": [],
   "source": []
  }
 ],
 "metadata": {
  "kernelspec": {
   "display_name": "Python 3",
   "language": "python",
   "name": "python3"
  },
  "language_info": {
   "codemirror_mode": {
    "name": "ipython",
    "version": 3
   },
   "file_extension": ".py",
   "mimetype": "text/x-python",
   "name": "python",
   "nbconvert_exporter": "python",
   "pygments_lexer": "ipython3",
   "version": "3.8.8"
  }
 },
 "nbformat": 4,
 "nbformat_minor": 5
}
