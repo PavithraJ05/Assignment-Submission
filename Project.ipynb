{
 "cells": [
  {
   "cell_type": "code",
   "execution_count": 1,
   "id": "96427f03",
   "metadata": {},
   "outputs": [
    {
     "name": "stdout",
     "output_type": "stream",
     "text": [
      "Enter a temperature in celsius: 50\n",
      "Fahrenheit=  122\n"
     ]
    }
   ],
   "source": [
    "#Project\n",
    "\n",
    "Celsius=int(input(\"Enter a temperature in celsius: \"))\n",
    "F= int((Celsius * 9/5) + 32) \n",
    "print(\"Fahrenheit= \",F)\n"
   ]
  },
  {
   "cell_type": "code",
   "execution_count": null,
   "id": "a66a97e7",
   "metadata": {},
   "outputs": [],
   "source": []
  }
 ],
 "metadata": {
  "kernelspec": {
   "display_name": "Python 3",
   "language": "python",
   "name": "python3"
  },
  "language_info": {
   "codemirror_mode": {
    "name": "ipython",
    "version": 3
   },
   "file_extension": ".py",
   "mimetype": "text/x-python",
   "name": "python",
   "nbconvert_exporter": "python",
   "pygments_lexer": "ipython3",
   "version": "3.8.8"
  }
 },
 "nbformat": 4,
 "nbformat_minor": 5
}
